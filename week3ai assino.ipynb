{
 "cells": [
  {
   "cell_type": "code",
   "execution_count": 1,
   "id": "7c5b70e6-9e80-42b8-93bd-ee2e80d7505a",
   "metadata": {},
   "outputs": [
    {
     "name": "stdout",
     "output_type": "stream",
     "text": [
      "Decision Tree Classifier on Iris Dataset\n",
      "Accuracy : 0.9333\n",
      "Precision: 0.9364\n",
      "Recall   : 0.9333\n",
      "\n",
      "Classification Report:\n",
      "               precision    recall  f1-score   support\n",
      "\n",
      "      setosa       1.00      0.90      0.95        10\n",
      "  versicolor       0.90      0.90      0.90        10\n",
      "   virginica       0.91      1.00      0.95        10\n",
      "\n",
      "    accuracy                           0.93        30\n",
      "   macro avg       0.94      0.93      0.93        30\n",
      "weighted avg       0.94      0.93      0.93        30\n",
      "\n"
     ]
    }
   ],
   "source": [
    "# Iris Species Classification with Decision Tree\n",
    "#\n",
    "# This script loads the Iris dataset, preprocesses it (handles missing values and encodes labels),\n",
    "# trains a Decision Tree Classifier, and evaluates it using accuracy, precision, and recall.\n",
    "\n",
    "import numpy as np\n",
    "import pandas as pd\n",
    "from sklearn.datasets import load_iris\n",
    "from sklearn.model_selection import train_test_split\n",
    "from sklearn.tree import DecisionTreeClassifier\n",
    "from sklearn.metrics import accuracy_score, precision_score, recall_score\n",
    "from sklearn.impute import SimpleImputer\n",
    "from sklearn.preprocessing import LabelEncoder\n",
    "\n",
    "# 1. Load the Iris Dataset\n",
    "iris = load_iris()\n",
    "X = pd.DataFrame(iris.data, columns=iris.feature_names)\n",
    "y = pd.Series(iris.target, name=\"species\")\n",
    "\n",
    "# For demonstration, let's assume there could be missing values. Introduce some randomly:\n",
    "np.random.seed(42)\n",
    "missing_mask = np.random.rand(*X.shape) < 0.05\n",
    "X[missing_mask] = np.nan\n",
    "\n",
    "# 2. Preprocessing\n",
    "\n",
    "# 2.1 Handle missing values (using mean imputation)\n",
    "imputer = SimpleImputer(strategy='mean')\n",
    "X_imputed = pd.DataFrame(imputer.fit_transform(X), columns=X.columns)\n",
    "\n",
    "# 2.2 Encode labels (not needed for sklearn's decision tree, but for generality)\n",
    "le = LabelEncoder()\n",
    "y_encoded = le.fit_transform(y)\n",
    "\n",
    "# 3. Train/Test Split\n",
    "X_train, X_test, y_train, y_test = train_test_split(\n",
    "    X_imputed, y_encoded, test_size=0.2, random_state=42, stratify=y_encoded\n",
    ")\n",
    "\n",
    "# 4. Train Decision Tree Classifier\n",
    "clf = DecisionTreeClassifier(random_state=42)\n",
    "clf.fit(X_train, y_train)\n",
    "\n",
    "# 5. Predict on Test Data\n",
    "y_pred = clf.predict(X_test)\n",
    "\n",
    "# 6. Evaluation\n",
    "accuracy = accuracy_score(y_test, y_pred)\n",
    "precision = precision_score(y_test, y_pred, average='macro')  # macro: equal weight per class\n",
    "recall = recall_score(y_test, y_pred, average='macro')\n",
    "\n",
    "print(\"Decision Tree Classifier on Iris Dataset\")\n",
    "print(\"Accuracy : {:.4f}\".format(accuracy))\n",
    "print(\"Precision: {:.4f}\".format(precision))\n",
    "print(\"Recall   : {:.4f}\".format(recall))\n",
    "\n",
    "# If you want to see a classification report for all classes:\n",
    "from sklearn.metrics import classification_report\n",
    "print(\"\\nClassification Report:\\n\", classification_report(y_test, y_pred, target_names=iris.target_names))\n",
    "\n",
    "# --- End of Script ---\n",
    "\n",
    "# This script can be run as a standalone Python file.\n",
    "# If you wish to use a Jupyter notebook, copy and paste the code into a cell."
   ]
  },
  {
   "cell_type": "code",
   "execution_count": null,
   "id": "e8fdbe00-21a2-476f-9425-d5bb0f6b9ca0",
   "metadata": {},
   "outputs": [],
   "source": []
  }
 ],
 "metadata": {
  "kernelspec": {
   "display_name": "anaconda-2024.02-py310",
   "language": "python",
   "name": "conda-env-anaconda-2024.02-py310-py"
  },
  "language_info": {
   "codemirror_mode": {
    "name": "ipython",
    "version": 3
   },
   "file_extension": ".py",
   "mimetype": "text/x-python",
   "name": "python",
   "nbconvert_exporter": "python",
   "pygments_lexer": "ipython3",
   "version": "3.10.14"
  }
 },
 "nbformat": 4,
 "nbformat_minor": 5
}
