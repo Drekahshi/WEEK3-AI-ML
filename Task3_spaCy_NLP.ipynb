{
  "nbformat": 4,
  "nbformat_minor": 0,
  "metadata": {
    "colab": {
      "provenance": []
    },
    "kernelspec": {
      "name": "python3",
      "display_name": "Python 3"
    },
    "language_info": {
      "name": "python"
    }
  },
  "cells": [
    {
      "cell_type": "code",
      "execution_count": 1,
      "metadata": {
        "colab": {
          "base_uri": "https://localhost:8080/"
        },
        "id": "o2AZPRyyPFaW",
        "outputId": "86d45f56-7795-4262-eb8d-3fdb5281fd63"
      },
      "outputs": [
        {
          "output_type": "stream",
          "name": "stdout",
          "text": [
            "Review 1: I love my new Samsung Galaxy phone! The camera quality is amazing.\n",
            "  Extracted Entities: [('Samsung Galaxy', 'ORG')]\n",
            "  Sentiment: Positive\n",
            "------------------------------------------------------------\n",
            "Review 2: The Nike running shoes were not comfortable and felt cheap.\n",
            "  Extracted Entities: [('Nike', 'ORG')]\n",
            "  Sentiment: Negative\n",
            "------------------------------------------------------------\n",
            "Review 3: Apple's MacBook Pro is excellent for work, but the battery life could be better.\n",
            "  Extracted Entities: [('Apple', 'ORG')]\n",
            "  Sentiment: Positive\n",
            "------------------------------------------------------------\n",
            "Review 4: I am disappointed with the Sony headphones. The sound quality is poor.\n",
            "  Extracted Entities: [('Sony', 'ORG')]\n",
            "  Sentiment: Negative\n",
            "------------------------------------------------------------\n",
            "Review 5: Logitech mouse works perfectly and is very affordable.\n",
            "  Extracted Entities: [('Logitech', 'ORG')]\n",
            "  Sentiment: Positive\n",
            "------------------------------------------------------------\n"
          ]
        }
      ],
      "source": [
        "# NLP with spaCy: Named Entity Recognition and Sentiment Analysis\n",
        "\n",
        "import spacy\n",
        "\n",
        "# Load spaCy model\n",
        "nlp = spacy.load(\"en_core_web_sm\")\n",
        "\n",
        "# Sample reviews\n",
        "reviews = [\n",
        "    \"I love my new Samsung Galaxy phone! The camera quality is amazing.\",\n",
        "    \"The Nike running shoes were not comfortable and felt cheap.\",\n",
        "    \"Apple's MacBook Pro is excellent for work, but the battery life could be better.\",\n",
        "    \"I am disappointed with the Sony headphones. The sound quality is poor.\",\n",
        "    \"Logitech mouse works perfectly and is very affordable.\"\n",
        "]\n",
        "\n",
        "positive_words = {\"love\", \"amazing\", \"excellent\", \"perfectly\", \"affordable\"}\n",
        "negative_words = {\"not\", \"disappointed\", \"poor\", \"cheap\"}\n",
        "\n",
        "def simple_sentiment(text):\n",
        "    text_lower = text.lower()\n",
        "    if any(word in text_lower for word in positive_words):\n",
        "        return \"Positive\"\n",
        "    if any(word in text_lower for word in negative_words):\n",
        "        return \"Negative\"\n",
        "    return \"Neutral\"\n",
        "\n",
        "for i, review in enumerate(reviews, 1):\n",
        "    doc = nlp(review)\n",
        "    entities = [(ent.text, ent.label_) for ent in doc.ents if ent.label_ in {\"PRODUCT\", \"ORG\"}]\n",
        "    sentiment = simple_sentiment(review)\n",
        "    print(f\"Review {i}: {review}\")\n",
        "    print(\"  Extracted Entities:\", entities)\n",
        "    print(\"  Sentiment:\", sentiment)\n",
        "    print(\"-\" * 60)"
      ]
    }
  ]
}