{
  "nbformat": 4,
  "nbformat_minor": 0,
  "metadata": {
    "colab": {
      "provenance": []
    },
    "kernelspec": {
      "name": "python3",
      "display_name": "Python 3"
    },
    "language_info": {
      "name": "python"
    }
  },
  "cells": [
    {
      "cell_type": "code",
      "source": [
        "# Task 1: Iris Classification with Scikit-learn\n",
        "# Task 1: Iris Classification with Scikit-learn\n",
        "import numpy as np\n",
        "import pandas as pd\n",
        "from sklearn.datasets import load_iris\n",
        "from sklearn.model_selection import train_test_split\n",
        "from sklearn.tree import DecisionTreeClassifier\n",
        "from sklearn.metrics import accuracy_score, precision_score, recall_score, classification_report\n",
        "from sklearn.impute import SimpleImputer\n",
        "from sklearn.preprocessing import LabelEncoder\n"
      ],
      "metadata": {
        "id": "JZKW7wECD5Ev"
      },
      "execution_count": 1,
      "outputs": []
    },
    {
      "cell_type": "code",
      "execution_count": 3,
      "metadata": {
        "colab": {
          "base_uri": "https://localhost:8080/"
        },
        "id": "Cz2mfxVCDc0N",
        "outputId": "031ca544-521c-47a5-fb36-3c0e09cd644b"
      },
      "outputs": [
        {
          "output_type": "stream",
          "name": "stdout",
          "text": [
            "Decision Tree Classifier on Iris Dataset\n",
            "Accuracy : 0.9333\n",
            "Precision: 0.9364\n",
            "Recall   : 0.9333\n",
            "Classification Report:\n",
            "               precision    recall  f1-score   support\n",
            "\n",
            "      setosa       1.00      0.90      0.95        10\n",
            "  versicolor       0.90      0.90      0.90        10\n",
            "   virginica       0.91      1.00      0.95        10\n",
            "\n",
            "    accuracy                           0.93        30\n",
            "   macro avg       0.94      0.93      0.93        30\n",
            "weighted avg       0.94      0.93      0.93        30\n",
            "\n"
          ]
        }
      ],
      "source": [
        "# 1. Load the Iris Dataset\n",
        "iris = load_iris()\n",
        "X = pd.DataFrame(iris.data, columns=iris.feature_names)\n",
        "y = pd.Series(iris.target, name=\"species\")\n",
        "\n",
        "# Introduce missing values randomly (for demonstration)\n",
        "np.random.seed(42)\n",
        "missing_mask = np.random.rand(*X.shape) < 0.05\n",
        "X[missing_mask] = np.nan\n",
        "\n",
        "# 2. Preprocessing\n",
        "imputer = SimpleImputer(strategy='mean')\n",
        "X_imputed = pd.DataFrame(imputer.fit_transform(X), columns=X.columns)\n",
        "\n",
        "le = LabelEncoder()\n",
        "y_encoded = le.fit_transform(y)\n",
        "\n",
        "# 3. Train/Test Split\n",
        "X_train, X_test, y_train, y_test = train_test_split(\n",
        "    X_imputed, y_encoded, test_size=0.2, random_state=42, stratify=y_encoded\n",
        ")\n",
        "\n",
        "# 4. Train Decision Tree Classifier\n",
        "clf = DecisionTreeClassifier(random_state=42)\n",
        "clf.fit(X_train, y_train)\n",
        "\n",
        "# 5. Predict on Test Data\n",
        "y_pred = clf.predict(X_test)\n",
        "\n",
        "# 6. Evaluation\n",
        "accuracy = accuracy_score(y_test, y_pred)\n",
        "precision = precision_score(y_test, y_pred, average='macro')\n",
        "recall = recall_score(y_test, y_pred, average='macro')\n",
        "\n",
        "print(\"Decision Tree Classifier on Iris Dataset\")\n",
        "print(\"Accuracy : {:.4f}\".format(accuracy))\n",
        "print(\"Precision: {:.4f}\".format(precision))\n",
        "print(\"Recall   : {:.4f}\".format(recall))\n",
        "print(\"Classification Report:\\n\", classification_report(y_test, y_pred, target_names=iris.target_names))"
      ]
    }
  ]
}