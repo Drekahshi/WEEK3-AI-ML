{
  "nbformat": 4,
  "nbformat_minor": 0,
  "metadata": {
    "colab": {
      "provenance": []
    },
    "kernelspec": {
      "name": "python3",
      "display_name": "Python 3"
    },
    "language_info": {
      "name": "python"
    }
  },
  "cells": [
    {
      "cell_type": "code",
      "source": [
        "# MNIST Handwritten Digit Classification with CNN\n",
        "\n",
        "import numpy as np\n",
        "import matplotlib.pyplot as plt\n",
        "from tensorflow import keras\n",
        "from tensorflow.keras import layers"
      ],
      "metadata": {
        "id": "v_a4TgAAGv0B"
      },
      "execution_count": 5,
      "outputs": []
    },
    {
      "cell_type": "code",
      "execution_count": 6,
      "metadata": {
        "colab": {
          "base_uri": "https://localhost:8080/",
          "height": 648
        },
        "id": "jO6li8y0FygJ",
        "outputId": "05388790-a372-4932-f289-68fa46a8c62b"
      },
      "outputs": [
        {
          "output_type": "stream",
          "name": "stderr",
          "text": [
            "/usr/local/lib/python3.11/dist-packages/keras/src/layers/convolutional/base_conv.py:107: UserWarning: Do not pass an `input_shape`/`input_dim` argument to a layer. When using Sequential models, prefer using an `Input(shape)` object as the first layer in the model instead.\n",
            "  super().__init__(activity_regularizer=activity_regularizer, **kwargs)\n"
          ]
        },
        {
          "output_type": "stream",
          "name": "stdout",
          "text": [
            "Epoch 1/10\n",
            "422/422 - 42s - 99ms/step - accuracy: 0.9227 - loss: 0.2537 - val_accuracy: 0.9765 - val_loss: 0.0755\n",
            "Epoch 2/10\n",
            "422/422 - 39s - 93ms/step - accuracy: 0.9789 - loss: 0.0679 - val_accuracy: 0.9862 - val_loss: 0.0477\n",
            "Epoch 3/10\n",
            "422/422 - 41s - 97ms/step - accuracy: 0.9854 - loss: 0.0468 - val_accuracy: 0.9880 - val_loss: 0.0414\n",
            "Epoch 4/10\n",
            "422/422 - 42s - 100ms/step - accuracy: 0.9886 - loss: 0.0362 - val_accuracy: 0.9892 - val_loss: 0.0375\n",
            "Epoch 5/10\n",
            "422/422 - 40s - 94ms/step - accuracy: 0.9904 - loss: 0.0298 - val_accuracy: 0.9852 - val_loss: 0.0498\n",
            "Epoch 6/10\n",
            "422/422 - 41s - 96ms/step - accuracy: 0.9924 - loss: 0.0240 - val_accuracy: 0.9888 - val_loss: 0.0380\n",
            "Epoch 7/10\n",
            "422/422 - 41s - 97ms/step - accuracy: 0.9936 - loss: 0.0203 - val_accuracy: 0.9895 - val_loss: 0.0376\n",
            "Epoch 8/10\n",
            "422/422 - 39s - 93ms/step - accuracy: 0.9948 - loss: 0.0162 - val_accuracy: 0.9900 - val_loss: 0.0355\n",
            "Epoch 9/10\n",
            "422/422 - 41s - 97ms/step - accuracy: 0.9956 - loss: 0.0131 - val_accuracy: 0.9898 - val_loss: 0.0359\n",
            "Epoch 10/10\n",
            "422/422 - 40s - 94ms/step - accuracy: 0.9962 - loss: 0.0119 - val_accuracy: 0.9915 - val_loss: 0.0348\n",
            "Test accuracy: 0.9893\n"
          ]
        },
        {
          "output_type": "display_data",
          "data": {
            "text/plain": [
              "<Figure size 1000x200 with 5 Axes>"
            ],
            "image/png": "[encoded data removed]"
          },
          "metadata": {}
        }
      ],
      "source": [
        "# MNIST Handwritten Digit Classification with CNN\n",
        "\n",
        "import numpy as np\n",
        "import matplotlib.pyplot as plt\n",
        "from tensorflow import keras\n",
        "from tensorflow.keras import layers\n",
        "\n",
        "# 1. Load MNIST dataset\n",
        "(x_train, y_train), (x_test, y_test) = keras.datasets.mnist.load_data()\n",
        "\n",
        "# 2. Preprocess data\n",
        "x_train = x_train.astype(\"float32\") / 255.0\n",
        "x_test = x_test.astype(\"float32\") / 255.0\n",
        "x_train = np.expand_dims(x_train, -1)\n",
        "x_test = np.expand_dims(x_test, -1)\n",
        "\n",
        "num_classes = 10\n",
        "y_train_cat = keras.utils.to_categorical(y_train, num_classes)\n",
        "y_test_cat = keras.utils.to_categorical(y_test, num_classes)\n",
        "\n",
        "# 3. Build CNN model\n",
        "model = keras.Sequential([\n",
        "    layers.Conv2D(32, (3,3), activation='relu', input_shape=(28,28,1)),\n",
        "    layers.MaxPooling2D((2,2)),\n",
        "    layers.Conv2D(64, (3,3), activation='relu'),\n",
        "    layers.MaxPooling2D((2,2)),\n",
        "    layers.Flatten(),\n",
        "    layers.Dense(64, activation='relu'),\n",
        "    layers.Dense(num_classes, activation='softmax')\n",
        "])\n",
        "\n",
        "model.compile(optimizer='adam',\n",
        "              loss='categorical_crossentropy',\n",
        "              metrics=['accuracy'])\n",
        "\n",
        "# 4. Train the model\n",
        "model.fit(x_train, y_train_cat, epochs=10, batch_size=128, validation_split=0.1, verbose=2)\n",
        "\n",
        "# 5. Evaluate on test data\n",
        "test_loss, test_acc = model.evaluate(x_test, y_test_cat, verbose=0)\n",
        "print(f\"Test accuracy: {test_acc:.4f}\")\n",
        "\n",
        "# 6. Visualize predictions\n",
        "sample_idx = np.random.choice(len(x_test), 5, replace=False)\n",
        "sample_images = x_test[sample_idx]\n",
        "sample_labels = y_test[sample_idx]\n",
        "preds = model.predict(sample_images, verbose=0)\n",
        "pred_digits = np.argmax(preds, axis=1)\n",
        "\n",
        "plt.figure(figsize=(10,2))\n",
        "for i in range(5):\n",
        "    plt.subplot(1,5,i+1)\n",
        "    plt.imshow(sample_images[i].reshape(28,28), cmap='gray')\n",
        "    plt.title(f\"Label: {sample_labels[i]}\\nPred: {pred_digits[i]}\")\n",
        "    plt.axis('off')\n",
        "plt.tight_layout()\n",
        "plt.show()"
      ]
    }
  ]
}