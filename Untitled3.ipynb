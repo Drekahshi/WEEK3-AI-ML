{
  "nbformat": 4,
  "nbformat_minor": 0,
  "metadata": {
    "colab": {
      "provenance": []
    },
    "kernelspec": {
      "name": "python3",
      "display_name": "Python 3"
    },
    "language_info": {
      "name": "python"
    }
  },
  "cells": [
    {
      "cell_type": "code",
      "execution_count": 1,
      "metadata": {
        "id": "D8d0eGFPH4Sr",
        "colab": {
          "base_uri": "https://localhost:8080/",
          "height": 688
        },
        "outputId": "6a5f4994-3936-4d42-f58b-92ae893bc641"
      },
      "outputs": [
        {
          "output_type": "stream",
          "name": "stdout",
          "text": [
            "Downloading data from https://storage.googleapis.com/tensorflow/tf-keras-datasets/mnist.npz\n",
            "\u001b[1m11490434/11490434\u001b[0m \u001b[32m━━━━━━━━━━━━━━━━━━━━\u001b[0m\u001b[37m\u001b[0m \u001b[1m0s\u001b[0m 0us/step\n"
          ]
        },
        {
          "output_type": "stream",
          "name": "stderr",
          "text": [
            "/usr/local/lib/python3.11/dist-packages/keras/src/layers/convolutional/base_conv.py:107: UserWarning: Do not pass an `input_shape`/`input_dim` argument to a layer. When using Sequential models, prefer using an `Input(shape)` object as the first layer in the model instead.\n",
            "  super().__init__(activity_regularizer=activity_regularizer, **kwargs)\n"
          ]
        },
        {
          "output_type": "stream",
          "name": "stdout",
          "text": [
            "Epoch 1/10\n",
            "422/422 - 41s - 96ms/step - accuracy: 0.9304 - loss: 0.2419 - val_accuracy: 0.9798 - val_loss: 0.0726\n",
            "Epoch 2/10\n",
            "422/422 - 36s - 85ms/step - accuracy: 0.9791 - loss: 0.0684 - val_accuracy: 0.9857 - val_loss: 0.0498\n",
            "Epoch 3/10\n",
            "422/422 - 41s - 97ms/step - accuracy: 0.9848 - loss: 0.0477 - val_accuracy: 0.9860 - val_loss: 0.0508\n",
            "Epoch 4/10\n",
            "422/422 - 41s - 96ms/step - accuracy: 0.9889 - loss: 0.0361 - val_accuracy: 0.9890 - val_loss: 0.0420\n",
            "Epoch 5/10\n",
            "422/422 - 42s - 98ms/step - accuracy: 0.9908 - loss: 0.0299 - val_accuracy: 0.9890 - val_loss: 0.0450\n",
            "Epoch 6/10\n",
            "422/422 - 41s - 97ms/step - accuracy: 0.9922 - loss: 0.0244 - val_accuracy: 0.9893 - val_loss: 0.0364\n",
            "Epoch 7/10\n",
            "422/422 - 41s - 97ms/step - accuracy: 0.9939 - loss: 0.0189 - val_accuracy: 0.9908 - val_loss: 0.0363\n",
            "Epoch 8/10\n",
            "422/422 - 36s - 86ms/step - accuracy: 0.9949 - loss: 0.0160 - val_accuracy: 0.9905 - val_loss: 0.0370\n",
            "Epoch 9/10\n",
            "422/422 - 36s - 85ms/step - accuracy: 0.9952 - loss: 0.0141 - val_accuracy: 0.9902 - val_loss: 0.0420\n",
            "Epoch 10/10\n",
            "422/422 - 40s - 96ms/step - accuracy: 0.9964 - loss: 0.0112 - val_accuracy: 0.9860 - val_loss: 0.0519\n",
            "Test accuracy: 0.9884\n",
            "\u001b[1m1/1\u001b[0m \u001b[32m━━━━━━━━━━━━━━━━━━━━\u001b[0m\u001b[37m\u001b[0m \u001b[1m0s\u001b[0m 145ms/step\n"
          ]
        },
        {
          "output_type": "display_data",
          "data": {
            "text/plain": [
              "<Figure size 1000x200 with 5 Axes>"
            ],
            "image/png": "[encoded data removed]"
          },
          "metadata": {}
        }
      ],
      "source": [
        "# MNIST Handwritten Digit Classification with CNN\n",
        "#\n",
        "# This script trains a Convolutional Neural Network (CNN) to classify handwritten digits from the MNIST dataset.\n",
        "# It aims to achieve >95% test accuracy, and visualizes predictions for 5 test images.\n",
        "\n",
        "import numpy as np\n",
        "import matplotlib.pyplot as plt\n",
        "from tensorflow import keras\n",
        "from tensorflow.keras import layers\n",
        "\n",
        "# 1. Load MNIST dataset\n",
        "(x_train, y_train), (x_test, y_test) = keras.datasets.mnist.load_data()\n",
        "\n",
        "# 2. Preprocess data\n",
        "x_train = x_train.astype(\"float32\") / 255.0\n",
        "x_test = x_test.astype(\"float32\") / 255.0\n",
        "# Add channel dimension\n",
        "x_train = np.expand_dims(x_train, -1)\n",
        "x_test = np.expand_dims(x_test, -1)\n",
        "# One-hot encode labels\n",
        "num_classes = 10\n",
        "y_train_cat = keras.utils.to_categorical(y_train, num_classes)\n",
        "y_test_cat = keras.utils.to_categorical(y_test, num_classes)\n",
        "\n",
        "# 3. Build CNN model\n",
        "model = keras.Sequential([\n",
        "    layers.Conv2D(32, (3,3), activation='relu', input_shape=(28,28,1)),\n",
        "    layers.MaxPooling2D((2,2)),\n",
        "    layers.Conv2D(64, (3,3), activation='relu'),\n",
        "    layers.MaxPooling2D((2,2)),\n",
        "    layers.Flatten(),\n",
        "    layers.Dense(64, activation='relu'),\n",
        "    layers.Dense(num_classes, activation='softmax')\n",
        "])\n",
        "\n",
        "model.compile(optimizer='adam',\n",
        "              loss='categorical_crossentropy',\n",
        "              metrics=['accuracy'])\n",
        "\n",
        "# 4. Train the model\n",
        "history = model.fit(\n",
        "    x_train, y_train_cat,\n",
        "    epochs=10,\n",
        "    batch_size=128,\n",
        "    validation_split=0.1,\n",
        "    verbose=2\n",
        ")\n",
        "\n",
        "# 5. Evaluate on test data\n",
        "test_loss, test_acc = model.evaluate(x_test, y_test_cat, verbose=0)\n",
        "print(f\"Test accuracy: {test_acc:.4f}\")\n",
        "\n",
        "# 6. Visualize predictions on 5 sample images\n",
        "sample_idx = np.random.choice(len(x_test), 5, replace=False)\n",
        "sample_images = x_test[sample_idx]\n",
        "sample_labels = y_test[sample_idx]\n",
        "preds = model.predict(sample_images)\n",
        "pred_digits = np.argmax(preds, axis=1)\n",
        "\n",
        "plt.figure(figsize=(10,2))\n",
        "for i in range(5):\n",
        "    plt.subplot(1,5,i+1)\n",
        "    plt.imshow(sample_images[i].reshape(28,28), cmap='gray')\n",
        "    plt.title(f\"Label: {sample_labels[i]}\\nPred: {pred_digits[i]}\")\n",
        "    plt.axis('off')\n",
        "plt.tight_layout()\n",
        "plt.show()\n",
        "\n",
        "# --- End of Script ---\n",
        "\n",
        "# Notes:\n",
        "# - This script uses TensorFlow/Keras.\n",
        "# - It achieves >95% accuracy in a few epochs on MNIST.\n",
        "# - To run: install tensorflow and matplotlib if needed."
      ]
    }
  ]
}