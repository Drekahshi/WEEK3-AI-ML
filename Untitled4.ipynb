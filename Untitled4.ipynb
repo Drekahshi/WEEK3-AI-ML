{
  "nbformat": 4,
  "nbformat_minor": 0,
  "metadata": {
    "colab": {
      "provenance": []
    },
    "kernelspec": {
      "name": "python3",
      "display_name": "Python 3"
    },
    "language_info": {
      "name": "python"
    }
  },
  "cells": [
    {
      "cell_type": "code",
      "execution_count": 1,
      "metadata": {
        "colab": {
          "base_uri": "https://localhost:8080/"
        },
        "id": "eZHCikxKhrPP",
        "outputId": "d8febb6a-eeb3-4515-c97f-d90afb4e753e"
      },
      "outputs": [
        {
          "output_type": "stream",
          "name": "stdout",
          "text": [
            "Review 1: I love my new Samsung Galaxy phone! The camera quality is amazing.\n",
            "  Extracted Entities: [('Samsung Galaxy', 'ORG')]\n",
            "  Sentiment: Positive\n",
            "------------------------------------------------------------\n",
            "Review 2: The Nike running shoes were not comfortable and felt cheap.\n",
            "  Extracted Entities: [('Nike', 'ORG')]\n",
            "  Sentiment: Negative\n",
            "------------------------------------------------------------\n",
            "Review 3: Apple's MacBook Pro is excellent for work, but the battery life could be better.\n",
            "  Extracted Entities: [('Apple', 'ORG')]\n",
            "  Sentiment: Positive\n",
            "------------------------------------------------------------\n",
            "Review 4: I am disappointed with the Sony headphones. The sound quality is poor.\n",
            "  Extracted Entities: [('Sony', 'ORG')]\n",
            "  Sentiment: Negative\n",
            "------------------------------------------------------------\n",
            "Review 5: Logitech mouse works perfectly and is very affordable.\n",
            "  Extracted Entities: [('Logitech', 'ORG')]\n",
            "  Sentiment: Positive\n",
            "------------------------------------------------------------\n"
          ]
        }
      ],
      "source": [
        "# NLP with spaCy: Named Entity Recognition and Sentiment Analysis on Amazon Reviews\n",
        "#\n",
        "# This script extracts product names and brands using spaCy's NER,\n",
        "# and performs rule-based sentiment analysis (positive/negative)\n",
        "# on sample Amazon product reviews.\n",
        "\n",
        "import spacy\n",
        "\n",
        "# 1. Load English spaCy model\n",
        "nlp = spacy.load(\"en_core_web_sm\")\n",
        "\n",
        "# 2. Sample Amazon product reviews\n",
        "reviews = [\n",
        "    \"I love my new Samsung Galaxy phone! The camera quality is amazing.\",\n",
        "    \"The Nike running shoes were not comfortable and felt cheap.\",\n",
        "    \"Apple's MacBook Pro is excellent for work, but the battery life could be better.\",\n",
        "    \"I am disappointed with the Sony headphones. The sound quality is poor.\",\n",
        "    \"Logitech mouse works perfectly and is very affordable.\"\n",
        "]\n",
        "\n",
        "# 3. Define simple positive/negative word lists for rule-based sentiment\n",
        "positive_words = {\"love\", \"amazing\", \"excellent\", \"perfectly\", \"affordable\"}\n",
        "negative_words = {\"not\", \"disappointed\", \"poor\", \"cheap\"}\n",
        "\n",
        "def simple_sentiment(text):\n",
        "    text_lower = text.lower()\n",
        "    if any(word in text_lower for word in positive_words):\n",
        "        return \"Positive\"\n",
        "    if any(word in text_lower for word in negative_words):\n",
        "        return \"Negative\"\n",
        "    return \"Neutral\"\n",
        "\n",
        "# 4. Process each review\n",
        "for i, review in enumerate(reviews, 1):\n",
        "    doc = nlp(review)\n",
        "    # Extract product names and brands (entities labeled as ORG or PRODUCT)\n",
        "    entities = [(ent.text, ent.label_) for ent in doc.ents if ent.label_ in {\"PRODUCT\", \"ORG\"}]\n",
        "    sentiment = simple_sentiment(review)\n",
        "    print(f\"Review {i}: {review}\")\n",
        "    print(\"  Extracted Entities:\", entities)\n",
        "    print(\"  Sentiment:\", sentiment)\n",
        "    print(\"-\" * 60)\n",
        "\n",
        "# Sample Output:\n",
        "# Review 1: I love my new Samsung Galaxy phone! The camera quality is amazing.\n",
        "#   Extracted Entities: [('Samsung Galaxy', 'PRODUCT')]\n",
        "#   Sentiment: Positive\n",
        "#\n",
        "# Review 2: The Nike running shoes were not comfortable and felt cheap.\n",
        "#   Extracted Entities: [('Nike', 'ORG')]\n",
        "#   Sentiment: Negative\n",
        "#\n",
        "# ... (continues for all reviews)\n",
        "\n",
        "# Note: You may need to run: !python -m spacy download en_core_web_sm (once per environment)"
      ]
    }
  ]
}